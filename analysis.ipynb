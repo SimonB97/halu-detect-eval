{
 "cells": [
  {
   "cell_type": "markdown",
   "metadata": {},
   "source": [
    "## Hallucination Score Analysis\n",
    "\n",
    "In this notebook, the hallucination scores of the methods are analyzed."
   ]
  },
  {
   "cell_type": "code",
   "execution_count": 1,
   "metadata": {},
   "outputs": [],
   "source": [
    "import pandas as pd\n",
    "import numpy as np\n",
    "import matplotlib.pyplot as plt"
   ]
  },
  {
   "cell_type": "code",
   "execution_count": 2,
   "metadata": {},
   "outputs": [
    {
     "name": "stdout",
     "output_type": "stream",
     "text": [
      "Loading results\\togetherai_2_nqopen_with_ground_truths__mistralai_Mistral-7B-Instruct-v0-1.csv\n",
      "Loading results\\togetherai_2_xsum_with_ground_truths__mistralai_Mistral-7B-Instruct-v0-1.csv\n",
      "Found 2 CSVs with scores and ground truths for analysis\n",
      "\n",
      "truths__mistralai_Mistral-7B-Instruct-v0-1\n",
      "truths__mistralai_Mistral-7B-Instruct-v0-1\n"
     ]
    }
   ],
   "source": [
    "# load all csvs with \"with_ground_truths\" in the name\n",
    "import glob\n",
    "files = glob.glob(\"results/*with_ground_truths*.csv\")\n",
    "\n",
    "# load all csvs into a list of dataframes\n",
    "# dfs = [{f.split(\"__\")[-1].split(\".\")[0] + \"_\" + f.split(\"_\")[-1]: pd.read_csv(f)} for f in files]\n",
    "dfs = []\n",
    "for f in files:\n",
    "    print(f\"Loading {f}\")\n",
    "    model_name = f.split(\"__\")[-1].split(\".\")[0]\n",
    "    data_name = f.split(\"__\")[0].split(\"_\")[-1]\n",
    "    key = f\"{data_name}__{model_name}\"\n",
    "    df = pd.read_csv(f)\n",
    "    dfs.append({key: df})\n",
    "\n",
    "    \n",
    "print(f\"Found {len(dfs)} CSVs with scores and ground truths for analysis\\n\")\n",
    "for df in dfs:\n",
    "    print(list(df.keys())[0])"
   ]
  },
  {
   "cell_type": "code",
   "execution_count": null,
   "metadata": {},
   "outputs": [],
   "source": []
  },
  {
   "cell_type": "code",
   "execution_count": null,
   "metadata": {},
   "outputs": [],
   "source": []
  }
 ],
 "metadata": {
  "kernelspec": {
   "display_name": "hdetect",
   "language": "python",
   "name": "python3"
  },
  "language_info": {
   "codemirror_mode": {
    "name": "ipython",
    "version": 3
   },
   "file_extension": ".py",
   "mimetype": "text/x-python",
   "name": "python",
   "nbconvert_exporter": "python",
   "pygments_lexer": "ipython3",
   "version": "3.11.0"
  }
 },
 "nbformat": 4,
 "nbformat_minor": 2
}
