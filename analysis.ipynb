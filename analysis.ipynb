{
 "cells": [
  {
   "cell_type": "markdown",
   "metadata": {},
   "source": [
    "# Hallucination Score Analysis\n",
    "\n",
    "In this notebook, the hallucination scores of the methods are analyzed."
   ]
  },
  {
   "cell_type": "code",
   "execution_count": 27,
   "metadata": {},
   "outputs": [],
   "source": [
    "import glob\n",
    "import pandas as pd\n",
    "import numpy as np\n",
    "import matplotlib.pyplot as plt\n"
   ]
  },
  {
   "cell_type": "markdown",
   "metadata": {},
   "source": [
    "## Utility Functions"
   ]
  },
  {
   "cell_type": "code",
   "execution_count": 28,
   "metadata": {},
   "outputs": [],
   "source": [
    "# function to load a dataframe from a file\n",
    "def load_dataframe(f):\n",
    "    dataset_name = f.split(\"__\")[0].split(\"_\")[-4]\n",
    "    model_name = f.split(dataset_name)[0].split(\"\\\\\")[-1] +\"_\"+ f.split(\"__\")[-1].split(\".\")[0]\n",
    "    df = pd.read_csv(f)\n",
    "    df.drop([col for col in df.columns if \"answer\" in col or \"prompt\" in col], axis=1, inplace=True)\n",
    "    durations_df = pd.read_csv(f.split(dataset_name)[0] + \"durations.csv\")\n",
    "    return {\"dataset_name\": dataset_name, \"model\": model_name, \"df\": df, \"durations\": durations_df}\n",
    "\n"
   ]
  },
  {
   "cell_type": "markdown",
   "metadata": {},
   "source": [
    "## Loading the scores"
   ]
  },
  {
   "cell_type": "code",
   "execution_count": 29,
   "metadata": {},
   "outputs": [
    {
     "name": "stdout",
     "output_type": "stream",
     "text": [
      "Found 2 CSVs with scores and ground truths for analysis:\n",
      "\n",
      "Dataset: nqopen\n",
      "Model: togetherai_2__mistralai_Mistral-7B-Instruct-v0-1\n",
      "Shape: (80, 6)\n",
      "\n",
      "Dataset: xsum\n",
      "Model: togetherai_2__mistralai_Mistral-7B-Instruct-v0-1\n",
      "Shape: (80, 6)\n",
      "\n"
     ]
    }
   ],
   "source": [
    "# load datasets\n",
    "# find all csvs with scores and ground truths\n",
    "files = glob.glob(\"results/*with_ground_truths*.csv\")\n",
    "\n",
    "# load all csvs into a list of dataframes\n",
    "datasets = [load_dataframe(f) for f in files]\n",
    "\n",
    "print(f\"Found {len(datasets)} CSVs with scores and ground truths for analysis:\\n\")\n",
    "for dataset in datasets:\n",
    "    print(f\"Dataset: {dataset['dataset_name']}\")\n",
    "    print(f\"Model: {dataset['model']}\")\n",
    "    print(f\"Shape: {dataset['df'].shape}\\n\")"
   ]
  },
  {
   "cell_type": "code",
   "execution_count": 30,
   "metadata": {},
   "outputs": [
    {
     "data": {
      "text/html": [
       "<div>\n",
       "<style scoped>\n",
       "    .dataframe tbody tr th:only-of-type {\n",
       "        vertical-align: middle;\n",
       "    }\n",
       "\n",
       "    .dataframe tbody tr th {\n",
       "        vertical-align: top;\n",
       "    }\n",
       "\n",
       "    .dataframe thead th {\n",
       "        text-align: right;\n",
       "    }\n",
       "</style>\n",
       "<table border=\"1\" class=\"dataframe\">\n",
       "  <thead>\n",
       "    <tr style=\"text-align: right;\">\n",
       "      <th></th>\n",
       "      <th>selfcheck_nli_score</th>\n",
       "      <th>selfcheck_bert_score</th>\n",
       "      <th>fleek_score</th>\n",
       "      <th>lm_v_lm_score</th>\n",
       "      <th>lbhd_score</th>\n",
       "      <th>ground_truth</th>\n",
       "    </tr>\n",
       "  </thead>\n",
       "  <tbody>\n",
       "    <tr>\n",
       "      <th>0</th>\n",
       "      <td>0.810109</td>\n",
       "      <td>0.546060</td>\n",
       "      <td>0</td>\n",
       "      <td>0.0</td>\n",
       "      <td>{'avg': 0.29954681108807507, 'normalized_produ...</td>\n",
       "      <td>1.0</td>\n",
       "    </tr>\n",
       "    <tr>\n",
       "      <th>1</th>\n",
       "      <td>0.998452</td>\n",
       "      <td>0.455366</td>\n",
       "      <td>0</td>\n",
       "      <td>0.0</td>\n",
       "      <td>{'avg': 0.39881583601590387, 'normalized_produ...</td>\n",
       "      <td>1.0</td>\n",
       "    </tr>\n",
       "    <tr>\n",
       "      <th>2</th>\n",
       "      <td>0.479305</td>\n",
       "      <td>0.604782</td>\n",
       "      <td>0</td>\n",
       "      <td>0.0</td>\n",
       "      <td>{'avg': 0.32746767171428576, 'normalized_produ...</td>\n",
       "      <td>0.0</td>\n",
       "    </tr>\n",
       "    <tr>\n",
       "      <th>3</th>\n",
       "      <td>0.008632</td>\n",
       "      <td>0.363366</td>\n",
       "      <td>0</td>\n",
       "      <td>0.0</td>\n",
       "      <td>{'avg': 0.40973532698984677, 'normalized_produ...</td>\n",
       "      <td>0.0</td>\n",
       "    </tr>\n",
       "    <tr>\n",
       "      <th>4</th>\n",
       "      <td>0.599977</td>\n",
       "      <td>0.345637</td>\n",
       "      <td>0</td>\n",
       "      <td>0.0</td>\n",
       "      <td>{'avg': 0.39710540949620154, 'normalized_produ...</td>\n",
       "      <td>1.0</td>\n",
       "    </tr>\n",
       "  </tbody>\n",
       "</table>\n",
       "</div>"
      ],
      "text/plain": [
       "   selfcheck_nli_score  selfcheck_bert_score  fleek_score  lm_v_lm_score  \\\n",
       "0             0.810109              0.546060            0            0.0   \n",
       "1             0.998452              0.455366            0            0.0   \n",
       "2             0.479305              0.604782            0            0.0   \n",
       "3             0.008632              0.363366            0            0.0   \n",
       "4             0.599977              0.345637            0            0.0   \n",
       "\n",
       "                                          lbhd_score  ground_truth  \n",
       "0  {'avg': 0.29954681108807507, 'normalized_produ...           1.0  \n",
       "1  {'avg': 0.39881583601590387, 'normalized_produ...           1.0  \n",
       "2  {'avg': 0.32746767171428576, 'normalized_produ...           0.0  \n",
       "3  {'avg': 0.40973532698984677, 'normalized_produ...           0.0  \n",
       "4  {'avg': 0.39710540949620154, 'normalized_produ...           1.0  "
      ]
     },
     "execution_count": 30,
     "metadata": {},
     "output_type": "execute_result"
    }
   ],
   "source": [
    "test_df = datasets[0][\"df\"]\n",
    "test_df.head()"
   ]
  },
  {
   "cell_type": "code",
   "execution_count": null,
   "metadata": {},
   "outputs": [],
   "source": []
  }
 ],
 "metadata": {
  "kernelspec": {
   "display_name": "hdetect",
   "language": "python",
   "name": "python3"
  },
  "language_info": {
   "codemirror_mode": {
    "name": "ipython",
    "version": 3
   },
   "file_extension": ".py",
   "mimetype": "text/x-python",
   "name": "python",
   "nbconvert_exporter": "python",
   "pygments_lexer": "ipython3",
   "version": "3.11.0"
  }
 },
 "nbformat": 4,
 "nbformat_minor": 2
}
