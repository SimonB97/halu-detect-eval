{
 "cells": [
  {
   "cell_type": "code",
   "execution_count": 1,
   "metadata": {},
   "outputs": [],
   "source": [
    "from src.models.llm import OpenAILlm, TogetherAILlm\n",
    "from dotenv import load_dotenv\n",
    "import os\n",
    "import pprint\n",
    "load_dotenv()\n",
    "openai_api_key = os.getenv(\"OPENAI_API_KEY\")\n",
    "together_bearer_token = os.getenv(\"TOGETHER_AUTH_BEARER_TOKEN\")"
   ]
  },
  {
   "cell_type": "code",
   "execution_count": 2,
   "metadata": {},
   "outputs": [],
   "source": [
    "\n",
    "def test_LBHD():\n",
    "    from src.detection.lbhd import LBHD\n",
    "    import json\n",
    "    llm = OpenAILlm(openai_api_key, \"gpt-3.5-turbo\")\n",
    "    # llm = TogetherAILlm(together_bearer_token, \"mistralai/Mixtral-8x7B-Instruct-v0.1\")\n",
    "    lbhd = LBHD(llm)\n",
    "\n",
    "    response = llm.get_response(\"Write an article about John Russell Reynolds. 3 short sentences max!\", return_logprobs=True, max_tokens=100)\n",
    "    scores = lbhd.get_hallucination_score(response)\n",
    "\n",
    "    print(\"SCORES: \")\n",
    "    print(json.dumps(scores, indent=2))\n",
    "\n",
    "\n",
    "def test_LMvLM():\n",
    "    from src.detection.lm_v_lm import LMvLM, Examiner, Examinee\n",
    "    # llm = OpenAILlm(openai_api_key, \"gpt-3.5-turbo\")\n",
    "    llm = TogetherAILlm(together_bearer_token, \"mistralai/Mixtral-8x7B-Instruct-v0.1\")\n",
    "    examiner = Examiner(\"John Russell Reynolds was a British physician and neurologist.\", llm)\n",
    "    print(examiner.setup())\n",
    "    pp = pprint.PrettyPrinter(indent=2)\n",
    "    pp.pprint(examiner.message_history)\n"
   ]
  },
  {
   "cell_type": "code",
   "execution_count": 3,
   "metadata": {},
   "outputs": [
    {
     "name": "stdout",
     "output_type": "stream",
     "text": [
      " Question 1: Was John Russell Reynolds a real person in history?\n",
      "\n",
      "Question 2: If so, was John Russell Reynolds primarily known for his work in the medical field, specifically as a physician and neurologist?\n",
      "\n",
      "Question 3: Was John Russell Reynolds associated with British medicine, indicating that he was indeed a British physician?\n",
      "[ { 'content': 'Your goal is to try to verify the correctness of the following '\n",
      "               'claim: <claim>\\n'\n",
      "               'John Russell Reynolds was a British physician and '\n",
      "               'neurologist.\\n'\n",
      "               '</claim>\\n'\n",
      "               ', based on the background information you will '\n",
      "               'gather.             To gather this, You will provide short '\n",
      "               'questions whose purpose will be to verify the correctness of '\n",
      "               'the claim, and I will reply to you with the answers to '\n",
      "               'these.             Hopefully, with the help of the background '\n",
      "               'questions and their answers, you will be able to reach a '\n",
      "               'conclusion as to whether the claim is correct or possibly '\n",
      "               'incorrect.             Please keep asking questions as long as '\n",
      "               'you are yet to be sure regarding the true veracity of the '\n",
      "               'claim. Please start with the first questions.',\n",
      "    'role': 'user'},\n",
      "  { 'content': ' Question 1: Was John Russell Reynolds a real person in '\n",
      "               'history?\\n'\n",
      "               '\\n'\n",
      "               'Question 2: If so, was John Russell Reynolds primarily known '\n",
      "               'for his work in the medical field, specifically as a physician '\n",
      "               'and neurologist?\\n'\n",
      "               '\\n'\n",
      "               'Question 3: Was John Russell Reynolds associated with British '\n",
      "               'medicine, indicating that he was indeed a British physician?',\n",
      "    'role': 'assistant'}]\n"
     ]
    }
   ],
   "source": [
    "test_LMvLM()"
   ]
  },
  {
   "cell_type": "code",
   "execution_count": null,
   "metadata": {},
   "outputs": [],
   "source": []
  }
 ],
 "metadata": {
  "kernelspec": {
   "display_name": "hdetect",
   "language": "python",
   "name": "python3"
  },
  "language_info": {
   "codemirror_mode": {
    "name": "ipython",
    "version": 3
   },
   "file_extension": ".py",
   "mimetype": "text/x-python",
   "name": "python",
   "nbconvert_exporter": "python",
   "pygments_lexer": "ipython3",
   "version": "3.11.0"
  }
 },
 "nbformat": 4,
 "nbformat_minor": 2
}
